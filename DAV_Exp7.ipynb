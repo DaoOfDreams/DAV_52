{
  "nbformat": 4,
  "nbformat_minor": 0,
  "metadata": {
    "colab": {
      "provenance": [],
      "authorship_tag": "ABX9TyPxHzTcUj9RcgMe33FuWJ0X",
      "include_colab_link": true
    },
    "kernelspec": {
      "name": "ir",
      "display_name": "R"
    },
    "language_info": {
      "name": "R"
    }
  },
  "cells": [
    {
      "cell_type": "markdown",
      "metadata": {
        "id": "view-in-github",
        "colab_type": "text"
      },
      "source": [
        "<a href=\"https://colab.research.google.com/github/DaoOfDreams/DAV_52/blob/main/DAV_Exp7.ipynb\" target=\"_parent\"><img src=\"https://colab.research.google.com/assets/colab-badge.svg\" alt=\"Open In Colab\"/></a>"
      ]
    },
    {
      "cell_type": "markdown",
      "source": [
        "**Text Analysis**\n",
        "\n",
        "*The Psychology of Money: Timeless Lessons on Wealth, Greed, and Happiness*"
      ],
      "metadata": {
        "id": "lf6nuosOZeBM"
      }
    },
    {
      "cell_type": "markdown",
      "source": [
        ">Text Analysis Using R"
      ],
      "metadata": {
        "id": "hqvsfcQ0ZUe0"
      }
    },
    {
      "cell_type": "code",
      "source": [
        "install.packages(c(\"tm\",\"quanteda\"))"
      ],
      "metadata": {
        "colab": {
          "base_uri": "https://localhost:8080/"
        },
        "id": "Kx2Vr44xIIbT",
        "outputId": "4e9dd2c5-79a5-4c93-a3ea-da3aa6a7be78"
      },
      "execution_count": null,
      "outputs": [
        {
          "output_type": "stream",
          "name": "stderr",
          "text": [
            "Installing packages into ‘/usr/local/lib/R/site-library’\n",
            "(as ‘lib’ is unspecified)\n",
            "\n",
            "Warning message in install.packages(c(\"tm\", \"quanteda\")):\n",
            "“installation of package ‘quanteda’ had non-zero exit status”\n"
          ]
        }
      ]
    },
    {
      "cell_type": "code",
      "source": [
        "system('sudo apt-get install libpoppler-cpp-dev')"
      ],
      "metadata": {
        "id": "XA-9Tf90MzKj"
      },
      "execution_count": null,
      "outputs": []
    },
    {
      "cell_type": "code",
      "source": [
        "install.packages(\"pdftools\")"
      ],
      "metadata": {
        "colab": {
          "base_uri": "https://localhost:8080/"
        },
        "id": "8GhzFoJ3Ip4s",
        "outputId": "9ded8cd3-5e23-4b13-8add-1ee366807b0e"
      },
      "execution_count": null,
      "outputs": [
        {
          "output_type": "stream",
          "name": "stderr",
          "text": [
            "Installing package into ‘/usr/local/lib/R/site-library’\n",
            "(as ‘lib’ is unspecified)\n",
            "\n",
            "Warning message in install.packages(\"pdftools\"):\n",
            "“installation of package ‘pdftools’ had non-zero exit status”\n"
          ]
        }
      ]
    },
    {
      "cell_type": "code",
      "source": [
        "library(tm)\n",
        "library(pdftools)\n",
        "\n",
        "pdf_file <- \"/content/Morgan Housel - The Psychology of Money.pdf\"\n",
        "list_output <- pdf_text(pdf_file)\n",
        "\n",
        "length(list_output)\n",
        "cat(list_output[[8]])"
      ],
      "metadata": {
        "colab": {
          "base_uri": "https://localhost:8080/",
          "height": 180
        },
        "id": "NIXnsuJSIsmb",
        "outputId": "0cf11e7a-355b-4737-9578-3e77bace7cd7"
      },
      "execution_count": null,
      "outputs": [
        {
          "output_type": "display_data",
          "data": {
            "text/html": [
              "214"
            ],
            "text/markdown": "214",
            "text/latex": "214",
            "text/plain": [
              "[1] 214"
            ]
          },
          "metadata": {}
        },
        {
          "output_type": "stream",
          "name": "stdout",
          "text": [
            "“A genius is the man who can do the average thing when\n",
            "     everyone else around him is losing his mind.”\n",
            "                      —Napoleon\n",
            "\n",
            "\n",
            "“The world is full of obvious things which nobody by any\n",
            "                 chance ever observes.”\n",
            "                  —Sherlock Holmes\n"
          ]
        }
      ]
    },
    {
      "cell_type": "code",
      "source": [
        "typeof(list_output)"
      ],
      "metadata": {
        "colab": {
          "base_uri": "https://localhost:8080/",
          "height": 34
        },
        "id": "Lzh4icE3NqRj",
        "outputId": "1b129c0e-c925-41c2-b947-23a3d9237074"
      },
      "execution_count": null,
      "outputs": [
        {
          "output_type": "display_data",
          "data": {
            "text/html": [
              "'character'"
            ],
            "text/markdown": "'character'",
            "text/latex": "'character'",
            "text/plain": [
              "[1] \"character\""
            ]
          },
          "metadata": {}
        }
      ]
    },
    {
      "cell_type": "code",
      "source": [
        "corpus <- Corpus(VectorSource(list_output))\n",
        "print(corpus)"
      ],
      "metadata": {
        "colab": {
          "base_uri": "https://localhost:8080/"
        },
        "id": "brsokM87JVR2",
        "outputId": "5e899132-0fee-4245-b04e-052ba8b95a1e"
      },
      "execution_count": null,
      "outputs": [
        {
          "output_type": "stream",
          "name": "stdout",
          "text": [
            "<<SimpleCorpus>>\n",
            "Metadata:  corpus specific: 1, document level (indexed): 0\n",
            "Content:  documents: 214\n"
          ]
        }
      ]
    },
    {
      "cell_type": "code",
      "source": [
        "typeof(corpus)\n",
        "class(corpus)"
      ],
      "metadata": {
        "colab": {
          "base_uri": "https://localhost:8080/",
          "height": 52
        },
        "id": "TLXJb55DN9FL",
        "outputId": "2afae9c9-98e9-4ba2-ac3d-75bf0325e3a8"
      },
      "execution_count": null,
      "outputs": [
        {
          "output_type": "display_data",
          "data": {
            "text/html": [
              "'list'"
            ],
            "text/markdown": "'list'",
            "text/latex": "'list'",
            "text/plain": [
              "[1] \"list\""
            ]
          },
          "metadata": {}
        },
        {
          "output_type": "display_data",
          "data": {
            "text/html": [
              "<style>\n",
              ".list-inline {list-style: none; margin:0; padding: 0}\n",
              ".list-inline>li {display: inline-block}\n",
              ".list-inline>li:not(:last-child)::after {content: \"\\00b7\"; padding: 0 .5ex}\n",
              "</style>\n",
              "<ol class=list-inline><li>'SimpleCorpus'</li><li>'Corpus'</li></ol>\n"
            ],
            "text/markdown": "1. 'SimpleCorpus'\n2. 'Corpus'\n\n\n",
            "text/latex": "\\begin{enumerate*}\n\\item 'SimpleCorpus'\n\\item 'Corpus'\n\\end{enumerate*}\n",
            "text/plain": [
              "[1] \"SimpleCorpus\" \"Corpus\"      "
            ]
          },
          "metadata": {}
        }
      ]
    },
    {
      "cell_type": "code",
      "source": [
        "printPage <- function(a) {\n",
        "    cat(\"\\n\")\n",
        "    print(corpus[[a]])\n",
        "    corpus[[a]]$content\n",
        "}\n",
        "\n",
        "printPage(8)"
      ],
      "metadata": {
        "colab": {
          "base_uri": "https://localhost:8080/",
          "height": 125
        },
        "id": "8TKUWuLLOCKj",
        "outputId": "6d0ecb9f-e1d0-46c6-d8f6-be14aa266307"
      },
      "execution_count": null,
      "outputs": [
        {
          "output_type": "stream",
          "name": "stdout",
          "text": [
            "\n",
            "<<PlainTextDocument>>\n",
            "Metadata:  7\n",
            "Content:  chars: 272\n"
          ]
        },
        {
          "output_type": "display_data",
          "data": {
            "text/html": [
              "<span style=white-space:pre-wrap>'“A genius is the man who can do the average thing when\\n     everyone else around him is losing his mind.”\\n                      —Napoleon\\n\\n\\n“The world is full of obvious things which nobody by any\\n                 chance ever observes.”\\n                  —Sherlock Holmes\\n'</span>"
            ],
            "text/markdown": "<span style=white-space:pre-wrap>'“A genius is the man who can do the average thing when\\n     everyone else around him is losing his mind.”\\n                      —Napoleon\\n\\n\\n“The world is full of obvious things which nobody by any\\n                 chance ever observes.”\\n                  —Sherlock Holmes\\n'</span>",
            "text/latex": "'“A genius is the man who can do the average thing when\\textbackslash{}n     everyone else around him is losing his mind.”\\textbackslash{}n                      —Napoleon\\textbackslash{}n\\textbackslash{}n\\textbackslash{}n“The world is full of obvious things which nobody by any\\textbackslash{}n                 chance ever observes.”\\textbackslash{}n                  —Sherlock Holmes\\textbackslash{}n'",
            "text/plain": [
              "[1] \"“A genius is the man who can do the average thing when\\n     everyone else around him is losing his mind.”\\n                      —Napoleon\\n\\n\\n“The world is full of obvious things which nobody by any\\n                 chance ever observes.”\\n                  —Sherlock Holmes\\n\""
            ]
          },
          "metadata": {}
        }
      ]
    },
    {
      "cell_type": "code",
      "source": [
        "corpus <- tm_map(corpus, stripWhitespace)\n",
        "printPage(8)"
      ],
      "metadata": {
        "colab": {
          "base_uri": "https://localhost:8080/",
          "height": 161
        },
        "id": "eX3eMoonS3_x",
        "outputId": "c73e9680-7ddd-4244-8377-2fff7684cd42"
      },
      "execution_count": null,
      "outputs": [
        {
          "output_type": "stream",
          "name": "stderr",
          "text": [
            "Warning message in tm_map.SimpleCorpus(corpus, stripWhitespace):\n",
            "“transformation drops documents”\n"
          ]
        },
        {
          "output_type": "stream",
          "name": "stdout",
          "text": [
            "\n",
            "<<PlainTextDocument>>\n",
            "Metadata:  7\n",
            "Content:  chars: 208\n"
          ]
        },
        {
          "output_type": "display_data",
          "data": {
            "text/html": [
              "'“A genius is the man who can do the average thing when everyone else around him is losing his mind.” —Napoleon “The world is full of obvious things which nobody by any chance ever observes.” —Sherlock Holmes '"
            ],
            "text/markdown": "'“A genius is the man who can do the average thing when everyone else around him is losing his mind.” —Napoleon “The world is full of obvious things which nobody by any chance ever observes.” —Sherlock Holmes '",
            "text/latex": "'“A genius is the man who can do the average thing when everyone else around him is losing his mind.” —Napoleon “The world is full of obvious things which nobody by any chance ever observes.” —Sherlock Holmes '",
            "text/plain": [
              "[1] \"“A genius is the man who can do the average thing when everyone else around him is losing his mind.” —Napoleon “The world is full of obvious things which nobody by any chance ever observes.” —Sherlock Holmes \""
            ]
          },
          "metadata": {}
        }
      ]
    },
    {
      "cell_type": "markdown",
      "source": [
        "There is an additional character that's being counted, the actual char count is 207."
      ],
      "metadata": {
        "id": "vU2JLMlPUFQM"
      }
    },
    {
      "cell_type": "code",
      "source": [
        "corpus <- tm_map(corpus, content_transformer(tolower))\n",
        "corpus <- tm_map(corpus, removePunctuation)\n",
        "corpus <- tm_map(corpus, removeNumbers)\n",
        "printPage(8)"
      ],
      "metadata": {
        "colab": {
          "base_uri": "https://localhost:8080/",
          "height": 234
        },
        "id": "-Z3TqmGfI7RJ",
        "outputId": "59ae6271-daf9-4d12-fb01-040721dd02a2"
      },
      "execution_count": null,
      "outputs": [
        {
          "output_type": "stream",
          "name": "stderr",
          "text": [
            "Warning message in tm_map.SimpleCorpus(corpus, content_transformer(tolower)):\n",
            "“transformation drops documents”\n",
            "Warning message in tm_map.SimpleCorpus(corpus, removePunctuation):\n",
            "“transformation drops documents”\n",
            "Warning message in tm_map.SimpleCorpus(corpus, removeNumbers):\n",
            "“transformation drops documents”\n"
          ]
        },
        {
          "output_type": "stream",
          "name": "stdout",
          "text": [
            "\n",
            "<<PlainTextDocument>>\n",
            "Metadata:  7\n",
            "Content:  chars: 206\n"
          ]
        },
        {
          "output_type": "display_data",
          "data": {
            "text/html": [
              "'“a genius is the man who can do the average thing when everyone else around him is losing his mind” —napoleon “the world is full of obvious things which nobody by any chance ever observes” —sherlock holmes '"
            ],
            "text/markdown": "'“a genius is the man who can do the average thing when everyone else around him is losing his mind” —napoleon “the world is full of obvious things which nobody by any chance ever observes” —sherlock holmes '",
            "text/latex": "'“a genius is the man who can do the average thing when everyone else around him is losing his mind” —napoleon “the world is full of obvious things which nobody by any chance ever observes” —sherlock holmes '",
            "text/plain": [
              "[1] \"“a genius is the man who can do the average thing when everyone else around him is losing his mind” —napoleon “the world is full of obvious things which nobody by any chance ever observes” —sherlock holmes \""
            ]
          },
          "metadata": {}
        }
      ]
    },
    {
      "cell_type": "code",
      "source": [
        "corpus <- tm_map(corpus, removeWords, stopwords(\"english\"))\n",
        "printPage(8)"
      ],
      "metadata": {
        "colab": {
          "base_uri": "https://localhost:8080/",
          "height": 144
        },
        "id": "z26_RMPuUY2d",
        "outputId": "56451e8f-c342-4c1a-cf2c-56ec8a276bf7"
      },
      "execution_count": null,
      "outputs": [
        {
          "output_type": "stream",
          "name": "stderr",
          "text": [
            "Warning message in tm_map.SimpleCorpus(corpus, removeWords, stopwords(\"english\")):\n",
            "“transformation drops documents”\n"
          ]
        },
        {
          "output_type": "stream",
          "name": "stdout",
          "text": [
            "\n",
            "<<PlainTextDocument>>\n",
            "Metadata:  7\n",
            "Content:  chars: 163\n"
          ]
        },
        {
          "output_type": "display_data",
          "data": {
            "text/html": [
              "<span style=white-space:pre-wrap>'“ genius   man  can   average thing  everyone else around   losing  mind” —napoleon “ world  full  obvious things  nobody   chance ever observes” —sherlock holmes '</span>"
            ],
            "text/markdown": "<span style=white-space:pre-wrap>'“ genius   man  can   average thing  everyone else around   losing  mind” —napoleon “ world  full  obvious things  nobody   chance ever observes” —sherlock holmes '</span>",
            "text/latex": "'“ genius   man  can   average thing  everyone else around   losing  mind” —napoleon “ world  full  obvious things  nobody   chance ever observes” —sherlock holmes '",
            "text/plain": [
              "[1] \"“ genius   man  can   average thing  everyone else around   losing  mind” —napoleon “ world  full  obvious things  nobody   chance ever observes” —sherlock holmes \""
            ]
          },
          "metadata": {}
        }
      ]
    },
    {
      "cell_type": "code",
      "source": [
        "tokens_tm <- tokens(as.character(corpus))"
      ],
      "metadata": {
        "id": "m9GrSqBxO7T7"
      },
      "execution_count": null,
      "outputs": []
    },
    {
      "cell_type": "code",
      "source": [
        "words <- unlist(sapply(corpus, words))\n",
        "head(words,10)"
      ],
      "metadata": {
        "colab": {
          "base_uri": "https://localhost:8080/",
          "height": 34
        },
        "id": "XGifVaD-SUrV",
        "outputId": "92be02cd-30ca-4e08-fbef-12f2a94635b5"
      },
      "execution_count": null,
      "outputs": [
        {
          "output_type": "display_data",
          "data": {
            "text/html": [
              "<style>\n",
              ".list-inline {list-style: none; margin:0; padding: 0}\n",
              ".list-inline>li {display: inline-block}\n",
              ".list-inline>li:not(:last-child)::after {content: \"\\00b7\"; padding: 0 .5ex}\n",
              "</style>\n",
              "<ol class=list-inline><li>'parents'</li><li>'teach'</li><li>'gretchen'</li><li>'guides'</li><li>'miles'</li><li>'reese'</li><li>'inspire'</li><li>'introduction'</li><li>'greatest'</li><li>'show'</li></ol>\n"
            ],
            "text/markdown": "1. 'parents'\n2. 'teach'\n3. 'gretchen'\n4. 'guides'\n5. 'miles'\n6. 'reese'\n7. 'inspire'\n8. 'introduction'\n9. 'greatest'\n10. 'show'\n\n\n",
            "text/latex": "\\begin{enumerate*}\n\\item 'parents'\n\\item 'teach'\n\\item 'gretchen'\n\\item 'guides'\n\\item 'miles'\n\\item 'reese'\n\\item 'inspire'\n\\item 'introduction'\n\\item 'greatest'\n\\item 'show'\n\\end{enumerate*}\n",
            "text/plain": [
              " [1] \"parents\"      \"teach\"        \"gretchen\"     \"guides\"       \"miles\"       \n",
              " [6] \"reese\"        \"inspire\"      \"introduction\" \"greatest\"     \"show\"        "
            ]
          },
          "metadata": {}
        }
      ]
    },
    {
      "cell_type": "code",
      "source": [
        "library(\"quanteda\")"
      ],
      "metadata": {
        "id": "a5LEzC0bLS7U"
      },
      "execution_count": null,
      "outputs": []
    },
    {
      "cell_type": "code",
      "source": [
        "tokens <- tokens(list_output, what = \"sentence\")\n",
        "\n",
        "sentences <- as.character(tokens)\n",
        "\n",
        "print(head(sentences,10))"
      ],
      "metadata": {
        "colab": {
          "base_uri": "https://localhost:8080/"
        },
        "id": "O_mJPhX7C48Y",
        "outputId": "36a6e0dc-2ce1-4666-e418-ff01e9b9e759"
      },
      "execution_count": null,
      "outputs": [
        {
          "output_type": "stream",
          "name": "stdout",
          "text": [
            " [1] \"              For    My parents, who teach me.\"\n",
            " [2] \"Gretchen, who guides me.\"                      \n",
            " [3] \"Miles and Reese, who inspire me.\"              \n",
            " [4] \"Introduction: The Greatest Show On Earth   1.\" \n",
            " [5] \"No One’s Crazy   2.\"                           \n",
            " [6] \"Luck & Risk   3.\"                              \n",
            " [7] \"Never Enough   4.\"                             \n",
            " [8] \"Confounding Compounding   5.\"                  \n",
            " [9] \"Getting Wealthy vs. Staying Wealthy   6.\"      \n",
            "[10] \"Tails, You Win\"                                \n"
          ]
        }
      ]
    },
    {
      "cell_type": "code",
      "source": [
        "tdm <- TermDocumentMatrix(corpus)\n",
        "freq_dist <- rowSums(as.matrix(tdm))\n",
        "\n",
        "head(sort(freq_dist, decreasing = TRUE), 10)"
      ],
      "metadata": {
        "id": "ZR9eotq_SS0M",
        "colab": {
          "base_uri": "https://localhost:8080/",
          "height": 34
        },
        "outputId": "833938ea-4bed-4157-e3fb-59f1f19ffed1"
      },
      "execution_count": null,
      "outputs": [
        {
          "output_type": "display_data",
          "data": {
            "text/html": [
              "<style>\n",
              ".dl-inline {width: auto; margin:0; padding: 0}\n",
              ".dl-inline>dt, .dl-inline>dd {float: none; width: auto; display: inline-block}\n",
              ".dl-inline>dt::after {content: \":\\0020\"; padding-right: .5ex}\n",
              ".dl-inline>dt:not(:first-of-type) {padding-left: .5ex}\n",
              "</style><dl class=dl-inline><dt>’s</dt><dd>377</dd><dt>can</dt><dd>234</dd><dt>people</dt><dd>212</dd><dt>one</dt><dd>193</dd><dt>money</dt><dd>184</dd><dt>“</dt><dd>148</dd><dt>will</dt><dd>146</dd><dt>like</dt><dd>143</dd><dt>world</dt><dd>136</dd><dt>’re</dt><dd>135</dd></dl>\n"
            ],
            "text/markdown": "’s\n:   377can\n:   234people\n:   212one\n:   193money\n:   184“\n:   148will\n:   146like\n:   143world\n:   136’re\n:   135\n\n",
            "text/latex": "\\begin{description*}\n\\item[’s] 377\n\\item[can] 234\n\\item[people] 212\n\\item[one] 193\n\\item[money] 184\n\\item[“] 148\n\\item[will] 146\n\\item[like] 143\n\\item[world] 136\n\\item[’re] 135\n\\end{description*}\n",
            "text/plain": [
              "    ’s    can people    one  money      “   will   like  world    ’re \n",
              "   377    234    212    193    184    148    146    143    136    135 "
            ]
          },
          "metadata": {}
        }
      ]
    },
    {
      "cell_type": "code",
      "source": [
        "df_plot <- data.frame(word = names(freq_dist),\n",
        "                 count = as.numeric(freq_dist),\n",
        "                 stringsAsFactors = FALSE)\n",
        "\n",
        "top_10_df <- head(df_plot[order(-df_plot$count), ], 10)\n"
      ],
      "metadata": {
        "id": "Wyz38yT5J-jJ"
      },
      "execution_count": null,
      "outputs": []
    },
    {
      "cell_type": "code",
      "source": [
        "library(\"ggplot2\")"
      ],
      "metadata": {
        "id": "X4wfvp-HKnkc"
      },
      "execution_count": null,
      "outputs": []
    },
    {
      "cell_type": "code",
      "source": [
        "ggplot(top_10_df, aes(x = reorder(word, -count), y = count)) +\n",
        "  geom_bar(stat = \"identity\", fill = \"skyblue\") +\n",
        "  labs(title = \"Top 10 Most Occurring Words\",\n",
        "       x = \"Words\",\n",
        "       y = \"Frequency\") +\n",
        "  theme_minimal() +\n",
        "  theme(axis.text.x = element_text(angle = 45, hjust = 1),\n",
        "        plot.title = element_text(size = 20, face = \"bold\"),\n",
        "        axis.title = element_text(size = 14),\n",
        "        axis.text = element_text(size = 12),\n",
        "        legend.position = \"none\") +\n",
        "  coord_flip()"
      ],
      "metadata": {
        "colab": {
          "base_uri": "https://localhost:8080/",
          "height": 437
        },
        "id": "ysmgTGtkKgUr",
        "outputId": "f9ad55cf-5f5e-4bac-ce53-421d6cb6c01d"
      },
      "execution_count": null,
      "outputs": [
        {
          "output_type": "display_data",
          "data": {
            "text/plain": [
              "plot without title"
            ],
            "image/png": "[encoded data removed]"
          },
          "metadata": {
            "image/png": {
              "width": 420,
              "height": 420
            }
          }
        }
      ]
    },
    {
      "cell_type": "code",
      "source": [
        "printPage(55)"
      ],
      "metadata": {
        "colab": {
          "base_uri": "https://localhost:8080/",
          "height": 229
        },
        "id": "AFi2YlyXNJTr",
        "outputId": "74f34a5e-784c-4625-ce23-be3ce16023c9"
      },
      "execution_count": null,
      "outputs": [
        {
          "output_type": "stream",
          "name": "stdout",
          "text": [
            "\n",
            "<<PlainTextDocument>>\n",
            "Metadata:  7\n",
            "Content:  chars: 1475\n"
          ]
        },
        {
          "output_type": "display_data",
          "data": {
            "text/html": [
              "<span style=white-space:pre-wrap>' one   worst months   history   stock market  became one   richest men   world  livermore’s family celebrated  unfathomable success another man wandered  streets  new york  desperation abraham germansky   multimillionaire real estate developer  made  fortune   roaring s   economy boomed    virtually every  successful new yorker    late s bet heavily   surging stock market  october th   new york times published  article   two paragraphs portrays  tragic ending bernard h sandler attorney   broadway  asked yesterday morning  mrs abraham germansky  mount vernon  help find  husband missing since thursday morning germansky    years old   east side real estate operator  said  sandler   invested heavily  stocks sandler said   told  mrs germansky   friend saw  husband late thursday  wall street near  stock exchange according   informant  husband  tearing  strip  ticker tape  bits  scattering    sidewalk   walked toward broadway    far   know   end  abraham germansky     contrast  october  crash made jesse livermore one   richest men   world  ruined abraham germansky perhaps taking  life  fastforward four years   stories cross paths     blowout livermore overflowing  confidence made larger  larger bets  wound  far   head  increasing amounts  debt  eventually lost everything   stock market broke  ashamed  disappeared  two days    wife set   find  “jesse l livermore  stock market operator   park avenue missing     seen since pm yesterday”  new york times wrote   '</span>"
            ],
            "text/markdown": "<span style=white-space:pre-wrap>' one   worst months   history   stock market  became one   richest men   world  livermore’s family celebrated  unfathomable success another man wandered  streets  new york  desperation abraham germansky   multimillionaire real estate developer  made  fortune   roaring s   economy boomed    virtually every  successful new yorker    late s bet heavily   surging stock market  october th   new york times published  article   two paragraphs portrays  tragic ending bernard h sandler attorney   broadway  asked yesterday morning  mrs abraham germansky  mount vernon  help find  husband missing since thursday morning germansky    years old   east side real estate operator  said  sandler   invested heavily  stocks sandler said   told  mrs germansky   friend saw  husband late thursday  wall street near  stock exchange according   informant  husband  tearing  strip  ticker tape  bits  scattering    sidewalk   walked toward broadway    far   know   end  abraham germansky     contrast  october  crash made jesse livermore one   richest men   world  ruined abraham germansky perhaps taking  life  fastforward four years   stories cross paths     blowout livermore overflowing  confidence made larger  larger bets  wound  far   head  increasing amounts  debt  eventually lost everything   stock market broke  ashamed  disappeared  two days    wife set   find  “jesse l livermore  stock market operator   park avenue missing     seen since pm yesterday”  new york times wrote   '</span>",
            "text/latex": "' one   worst months   history   stock market  became one   richest men   world  livermore’s family celebrated  unfathomable success another man wandered  streets  new york  desperation abraham germansky   multimillionaire real estate developer  made  fortune   roaring s   economy boomed    virtually every  successful new yorker    late s bet heavily   surging stock market  october th   new york times published  article   two paragraphs portrays  tragic ending bernard h sandler attorney   broadway  asked yesterday morning  mrs abraham germansky  mount vernon  help find  husband missing since thursday morning germansky    years old   east side real estate operator  said  sandler   invested heavily  stocks sandler said   told  mrs germansky   friend saw  husband late thursday  wall street near  stock exchange according   informant  husband  tearing  strip  ticker tape  bits  scattering    sidewalk   walked toward broadway    far   know   end  abraham germansky     contrast  october  crash made jesse livermore one   richest men   world  ruined abraham germansky perhaps taking  life  fastforward four years   stories cross paths     blowout livermore overflowing  confidence made larger  larger bets  wound  far   head  increasing amounts  debt  eventually lost everything   stock market broke  ashamed  disappeared  two days    wife set   find  “jesse l livermore  stock market operator   park avenue missing     seen since pm yesterday”  new york times wrote   '",
            "text/plain": [
              "[1] \" one   worst months   history   stock market  became one   richest men   world  livermore’s family celebrated  unfathomable success another man wandered  streets  new york  desperation abraham germansky   multimillionaire real estate developer  made  fortune   roaring s   economy boomed    virtually every  successful new yorker    late s bet heavily   surging stock market  october th   new york times published  article   two paragraphs portrays  tragic ending bernard h sandler attorney   broadway  asked yesterday morning  mrs abraham germansky  mount vernon  help find  husband missing since thursday morning germansky    years old   east side real estate operator  said  sandler   invested heavily  stocks sandler said   told  mrs germansky   friend saw  husband late thursday  wall street near  stock exchange according   informant  husband  tearing  strip  ticker tape  bits  scattering    sidewalk   walked toward broadway    far   know   end  abraham germansky     contrast  october  crash made jesse livermore one   richest men   world  ruined abraham germansky perhaps taking  life  fastforward four years   stories cross paths     blowout livermore overflowing  confidence made larger  larger bets  wound  far   head  increasing amounts  debt  eventually lost everything   stock market broke  ashamed  disappeared  two days    wife set   find  “jesse l livermore  stock market operator   park avenue missing     seen since pm yesterday”  new york times wrote   \""
            ]
          },
          "metadata": {}
        }
      ]
    },
    {
      "cell_type": "code",
      "source": [
        "tokens <- tokens(list_output)\n",
        "\n",
        "stemmed_tokens <- tokens(tokens, what = \"stem\")\n",
        "print(stemmed_tokens[24])\n"
      ],
      "metadata": {
        "id": "vMz8isCFz5q4",
        "colab": {
          "base_uri": "https://localhost:8080/"
        },
        "outputId": "ae2e7a72-1c7c-465f-9f15-996f8c65c4d9"
      },
      "execution_count": null,
      "outputs": [
        {
          "output_type": "stream",
          "name": "stdout",
          "text": [
            "Tokens consisting of 1 document.\n",
            "text24 :\n",
            " [1] \"Few\"         \"people\"      \"make\"        \"financial\"   \"decisions\"  \n",
            " [6] \"purely\"      \"with\"        \"a\"           \"spreadsheet\" \".\"          \n",
            "[11] \"They\"        \"make\"       \n",
            "[ ... and 213 more ]\n",
            "\n"
          ]
        }
      ]
    },
    {
      "cell_type": "code",
      "source": [
        "lemmatized_tokens <- tokens(tokens, what = \"lemma\")\n",
        "print(lemmatized_tokens[9])"
      ],
      "metadata": {
        "colab": {
          "base_uri": "https://localhost:8080/"
        },
        "id": "J8SbkFIPMXRV",
        "outputId": "bea26181-bb26-462f-97ad-23523562fde3"
      },
      "execution_count": null,
      "outputs": [
        {
          "output_type": "stream",
          "name": "stdout",
          "text": [
            "Tokens consisting of 1 document.\n",
            "text1 :\n",
            "[1] \"running\"\n",
            "\n"
          ]
        }
      ]
    },
    {
      "cell_type": "code",
      "source": [],
      "metadata": {
        "id": "voo7xotvQP3x"
      },
      "execution_count": null,
      "outputs": []
    },
    {
      "cell_type": "code",
      "source": [
        "pos_tags <- pos(tokens, model = \"universal\")\n",
        "head(pos_tags)"
      ],
      "metadata": {
        "colab": {
          "base_uri": "https://localhost:8080/",
          "height": 74
        },
        "id": "PtMa0pNTO1JS",
        "outputId": "2e326714-bedc-45da-a00e-540ce6c05e96"
      },
      "execution_count": null,
      "outputs": [
        {
          "output_type": "error",
          "ename": "ERROR",
          "evalue": "Error in pos(tokens, model = \"universal\"): could not find function \"pos\"\n",
          "traceback": [
            "Error in pos(tokens, model = \"universal\"): could not find function \"pos\"\nTraceback:\n"
          ]
        }
      ]
    },
    {
      "cell_type": "markdown",
      "source": [
        "Web Scrapping"
      ],
      "metadata": {
        "id": "KneXzoQVAqWU"
      }
    },
    {
      "cell_type": "code",
      "source": [
        "install.packages(c(\"rvest\",\"stringr\"))"
      ],
      "metadata": {
        "colab": {
          "base_uri": "https://localhost:8080/"
        },
        "id": "HGWkutRFAp_C",
        "outputId": "6213a45d-da6a-4d05-d5b2-d216ed964b85"
      },
      "execution_count": null,
      "outputs": [
        {
          "output_type": "stream",
          "name": "stderr",
          "text": [
            "Installing packages into ‘/usr/local/lib/R/site-library’\n",
            "(as ‘lib’ is unspecified)\n",
            "\n"
          ]
        }
      ]
    },
    {
      "cell_type": "code",
      "source": [
        "library(rvest)\n",
        "library(stringr)"
      ],
      "metadata": {
        "id": "hAPqT2LwAvZA"
      },
      "execution_count": null,
      "outputs": []
    },
    {
      "cell_type": "code",
      "source": [
        "url = \"https://www.wunderground.com/history/daily/in/new-delhi/VIDP/date/2022-1-1/CustomHistory.html?dayend=31&monthend=2&yearend=2022&format=1\""
      ],
      "metadata": {
        "id": "dM0ERDDNBFp_"
      },
      "execution_count": null,
      "outputs": []
    },
    {
      "cell_type": "code",
      "source": [
        "webpage <- read_html(url)\n",
        "\n",
        "# table_data <- webpage %>%\n",
        "#   html_node(\"#inner-content > div.region-content-main > div.row > div:nth-child(5) > div:nth-child(1) > div > lib-city-history-observation > div > div.observation-table.ng-star-inserted > table\") %>%\n",
        "#   html_table(fill = TRUE)\n",
        "\n",
        "# print(table_data)"
      ],
      "metadata": {
        "colab": {
          "base_uri": "https://localhost:8080/",
          "height": 329
        },
        "id": "muZjMK6rEfgY",
        "outputId": "22a893c8-a3fe-455e-85c5-18eec985c48d"
      },
      "execution_count": null,
      "outputs": [
        {
          "output_type": "error",
          "ename": "ERROR",
          "evalue": "Error in open.connection(x, \"rb\"): HTTP error 404.\n",
          "traceback": [
            "Error in open.connection(x, \"rb\"): HTTP error 404.\nTraceback:\n",
            "1. read_html(url)",
            "2. read_html.default(url)",
            "3. suppressWarnings(read_xml(x, encoding = encoding, ..., as_html = TRUE, \n .     options = options))",
            "4. withCallingHandlers(expr, warning = function(w) if (inherits(w, \n .     classes)) tryInvokeRestart(\"muffleWarning\"))",
            "5. read_xml(x, encoding = encoding, ..., as_html = TRUE, options = options)",
            "6. read_xml.character(x, encoding = encoding, ..., as_html = TRUE, \n .     options = options)",
            "7. read_xml.connection(con, encoding = encoding, ..., as_html = as_html, \n .     base_url = x, options = options)",
            "8. open(x, \"rb\")",
            "9. open.connection(x, \"rb\")"
          ]
        }
      ]
    },
    {
      "cell_type": "markdown",
      "source": [
        "Wunderground web scraping not working"
      ],
      "metadata": {
        "id": "GjeYut7QK1Y1"
      }
    },
    {
      "cell_type": "code",
      "source": [
        "url <- \"https://en.wikipedia.org/wiki/Web_scraping\"\n",
        "\n",
        "webpage <- read_html(url)\n",
        "\n",
        "titles <- webpage %>%\n",
        "  html_nodes(\"h2\") %>%\n",
        "  html_text()\n",
        "\n",
        "print(titles)"
      ],
      "metadata": {
        "colab": {
          "base_uri": "https://localhost:8080/"
        },
        "id": "CbBheU4CBJDG",
        "outputId": "a7836b84-a307-4b7d-db14-87d9d5a276d6"
      },
      "execution_count": null,
      "outputs": [
        {
          "output_type": "stream",
          "name": "stdout",
          "text": [
            "[1] \"Contents\"                             \n",
            "[2] \"History[edit]\"                        \n",
            "[3] \"Techniques[edit]\"                     \n",
            "[4] \"Software[edit]\"                       \n",
            "[5] \"Legal issues[edit]\"                   \n",
            "[6] \"Methods to prevent web scraping[edit]\"\n",
            "[7] \"See also[edit]\"                       \n",
            "[8] \"References[edit]\"                     \n"
          ]
        }
      ]
    },
    {
      "cell_type": "code",
      "source": [
        "History <- webpage %>%\n",
        "  html_nodes(\"#mw-content-text > div.mw-content-ltr.mw-parser-output > ul:nth-child(16)\") %>%\n",
        "  html_text() %>%\n",
        "  str_extract(\"\\\\d+\")\n",
        "\n",
        "print(History)"
      ],
      "metadata": {
        "colab": {
          "base_uri": "https://localhost:8080/"
        },
        "id": "RxNM9ZQVLMbm",
        "outputId": "fd38c73a-740a-4564-85c2-b1433c4d8ccf"
      },
      "execution_count": null,
      "outputs": [
        {
          "output_type": "stream",
          "name": "stdout",
          "text": [
            "[1] \"1989\"\n"
          ]
        }
      ]
    }
  ]
}